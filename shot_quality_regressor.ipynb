{
 "cells": [
  {
   "cell_type": "code",
   "execution_count": 36,
   "metadata": {
    "collapsed": true
   },
   "outputs": [],
   "source": [
    "import numpy as np\n",
    "import pandas as pd\n",
    "import matplotlib.pyplot as plt\n",
    "\n",
    "from sklearn.model_selection import train_test_split\n",
    "from sklearn.neural_network import MLPRegressor"
   ]
  },
  {
   "cell_type": "code",
   "execution_count": 37,
   "metadata": {
    "collapsed": false
   },
   "outputs": [
    {
     "name": "stdout",
     "output_type": "stream",
     "text": [
      "Loading in Data...\n",
      "Done!\n"
     ]
    }
   ],
   "source": [
    "print(\"Loading in Data...\")\n",
    "\n",
    "shotFile = \"Basketball Data/NBAPlayerTrackingData_2014-17/2016-17_nba_shot_log.csv\"\n",
    "shot_df = pd.read_csv(shotFile)\n",
    "\n",
    "print(\"Done!\")"
   ]
  },
  {
   "cell_type": "code",
   "execution_count": 38,
   "metadata": {
    "collapsed": false
   },
   "outputs": [],
   "source": [
    "# define learning algorithm inputs and outputs\n",
    "X = shot_df[['SHOT_DIST', 'TOUCH_TIME', 'CLOSE_DEF_DIST', 'PTS_TYPE']]\n",
    "Y = shot_df[\"PTS\"]"
   ]
  },
  {
   "cell_type": "code",
   "execution_count": 39,
   "metadata": {
    "collapsed": false
   },
   "outputs": [
    {
     "name": "stdout",
     "output_type": "stream",
     "text": [
      "Prepare Data for Learning...\n",
      "\n",
      "Vector Dimensions:\n",
      "X: (222661, 4)\n",
      "Y: (222661,)\n",
      "\n",
      "Done!\n"
     ]
    }
   ],
   "source": [
    "print(\"Prepare Data for Learning...\")\n",
    "print()\n",
    "\n",
    "print(\"Vector Dimensions:\")\n",
    "print(\"X:\", X.shape)\n",
    "print(\"Y:\", Y.shape)\n",
    "print()\n",
    "\n",
    "\"\"\"\n",
    "# normalize data\n",
    "for column in list(X):\n",
    "    values = X[column]\n",
    "    mean = np.mean(values)\n",
    "    std = np.std(values)\n",
    "    X[column] = (X[column] - mean) / std\n",
    "\"\"\"\n",
    "\n",
    "X_train, X_test, y_train, y_test = train_test_split(X, Y, test_size=0.33, random_state=42)\n",
    "\n",
    "print(\"Done!\")"
   ]
  },
  {
   "cell_type": "code",
   "execution_count": 40,
   "metadata": {
    "collapsed": false,
    "scrolled": true
   },
   "outputs": [
    {
     "name": "stdout",
     "output_type": "stream",
     "text": [
      "Machine Learning Underway...\n",
      "\n",
      "Grid Searching for Optimal # of Layers / Units...\n",
      "1 layers & 1 units yields error = 0.0234009918178\n",
      "1 layers & 2 units yields error = 0.0187449934856\n",
      "2 layers & 1 units yields error = 0.0266120705257\n",
      "2 layers & 2 units yields error = 0.0327631216686\n",
      "Error = 0.0327631216686\n",
      "\n",
      "Done!\n",
      "\n"
     ]
    }
   ],
   "source": [
    "print(\"Machine Learning Underway...\")\n",
    "print()\n",
    "\n",
    "bestScore = 0\n",
    "bestModel = None\n",
    "NNInfra = (8, 11)\n",
    "\n",
    "print(\"Grid Searching for Optimal # of Layers / Units...\")\n",
    "for layers in range(1, 3):\n",
    "    for units in range(1, 3):\n",
    "        model = MLPRegressor(hidden_layer_sizes=(layers, units), alpha=0.001, random_state=20,\n",
    "                              batch_size='auto', learning_rate='constant', learning_rate_init=0.01)\n",
    "        model.fit(X_train, y_train)\n",
    "        currentScore = model.score(X_test, y_test)\n",
    "        print(str(layers) + \" layers & \" + str(units) + \" units yields error =\", str(currentScore))\n",
    "        if currentScore > bestScore:\n",
    "            bestScore = currentScore\n",
    "            bestModel = model\n",
    "            NNInfra = (layers, units)\n",
    "\n",
    "bestModel = MLPRegressor(hidden_layer_sizes=NNInfra, alpha=0.001, random_state=20,\n",
    "                     batch_size='auto', learning_rate='constant', learning_rate_init=0.01)\n",
    "bestModel.fit(X_train, y_train)\n",
    "predicted_Y = bestModel.predict(X)\n",
    "\n",
    "print(\"Error =\", bestModel.score(X_test, y_test))\n",
    "print()\n",
    "\n",
    "print(\"Done!\")\n",
    "print()"
   ]
  },
  {
   "cell_type": "code",
   "execution_count": 44,
   "metadata": {
    "collapsed": false
   },
   "outputs": [
    {
     "data": {
      "text/plain": [
       "array([ 0.82785283])"
      ]
     },
     "execution_count": 44,
     "metadata": {},
     "output_type": "execute_result"
    }
   ],
   "source": [
    "# Feature Sequence: ['SHOT_DIST', 'TOUCH_TIME', 'CLOSE_DEF_DIST', 'PTS_TYPE']\n",
    "bestModel.predict([[20, 10, 10, 2]])"
   ]
  },
  {
   "cell_type": "code",
   "execution_count": null,
   "metadata": {
    "collapsed": true
   },
   "outputs": [],
   "source": []
  }
 ],
 "metadata": {
  "anaconda-cloud": {},
  "kernelspec": {
   "display_name": "Python [conda root]",
   "language": "python",
   "name": "conda-root-py"
  },
  "language_info": {
   "codemirror_mode": {
    "name": "ipython",
    "version": 3
   },
   "file_extension": ".py",
   "mimetype": "text/x-python",
   "name": "python",
   "nbconvert_exporter": "python",
   "pygments_lexer": "ipython3",
   "version": "3.5.2"
  }
 },
 "nbformat": 4,
 "nbformat_minor": 2
}
