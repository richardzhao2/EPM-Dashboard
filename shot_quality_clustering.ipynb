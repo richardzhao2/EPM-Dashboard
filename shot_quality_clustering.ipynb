{
 "cells": [
  {
   "cell_type": "code",
   "execution_count": 193,
   "metadata": {
    "collapsed": false
   },
   "outputs": [],
   "source": [
    "import numpy as np\n",
    "import pandas as pd\n",
    "import matplotlib.pyplot as plt\n",
    "import time\n",
    "\n",
    "from sklearn.cluster import KMeans\n",
    "from sklearn.decomposition import PCA"
   ]
  },
  {
   "cell_type": "code",
   "execution_count": 194,
   "metadata": {
    "collapsed": false
   },
   "outputs": [
    {
     "name": "stdout",
     "output_type": "stream",
     "text": [
      "Loading in Data...\n",
      "Time Elapsed: 0.5156824588775635 sec\n",
      "Done!\n"
     ]
    }
   ],
   "source": [
    "print(\"Loading in Data...\")\n",
    "\n",
    "startTime = time.time()\n",
    "\n",
    "shotFile = \"Basketball Data/NBAPlayerTrackingData_2014-17/2016-17_nba_shot_log.csv\"\n",
    "shot_df = pd.read_csv(shotFile)\n",
    "\n",
    "endTime = time.time()\n",
    "print(\"Time Elapsed:\", endTime - startTime, \"sec\")\n",
    "\n",
    "print(\"Done!\")"
   ]
  },
  {
   "cell_type": "code",
   "execution_count": 195,
   "metadata": {
    "collapsed": false
   },
   "outputs": [
    {
     "name": "stdout",
     "output_type": "stream",
     "text": [
      "Compiling Headers...\n",
      "\n",
      "Shot Log:\n",
      "﻿GAME_ID 0\n",
      "PERSON_ID 1\n",
      "TEAM_ID 2\n",
      "SHOT_ORDER 3\n",
      "SV_GAME_ID 4\n",
      "SV_PLAYER_ID 5\n",
      "SV_TEAM_ID 6\n",
      "SHOT_RESULT 7\n",
      "PERIOD 8\n",
      "GAME_CLOCK 9\n",
      "WALL_CLOCK 10\n",
      "DRIBBLES 11\n",
      "SHOT_DIST 12\n",
      "TOUCH_TIME 13\n",
      "CLOSE_DEF_PERSON_ID 14\n",
      "CLOSE_DEF_SV_PLAYER_ID 15\n",
      "CLOSE_DEF_DIST 16\n",
      "PTS_TYPE 17\n",
      "FGM 18\n",
      "FGA 19\n",
      "PTS 20\n",
      "\n",
      "Done!\n"
     ]
    }
   ],
   "source": [
    "print(\"Compiling Headers...\")\n",
    "print()\n",
    "\n",
    "print(\"Shot Log:\")\n",
    "for i in range(len(list(shot_df))):\n",
    "    print(list(shot_df)[i], i)\n",
    "print()\n",
    "\n",
    "print(\"Done!\")"
   ]
  },
  {
   "cell_type": "code",
   "execution_count": 196,
   "metadata": {
    "collapsed": false,
    "scrolled": true
   },
   "outputs": [],
   "source": [
    "# define clustering inputs\n",
    "X = shot_df[['SHOT_DIST', 'TOUCH_TIME', 'CLOSE_DEF_DIST', 'PTS']]"
   ]
  },
  {
   "cell_type": "code",
   "execution_count": 197,
   "metadata": {
    "collapsed": false
   },
   "outputs": [
    {
     "name": "stdout",
     "output_type": "stream",
     "text": [
      "Computing K-Means Clusters...\n",
      "Done!\n"
     ]
    }
   ],
   "source": [
    "print(\"Computing K-Means Clusters...\")\n",
    "\n",
    "# n_clusters = 2 for good shots and bad shots\n",
    "KMSimulator = KMeans(n_clusters=2, random_state=10).fit(X)\n",
    "KMS = KMSimulator.labels_\n",
    "\n",
    "print(\"Done!\")"
   ]
  },
  {
   "cell_type": "code",
   "execution_count": 198,
   "metadata": {
    "collapsed": false
   },
   "outputs": [
    {
     "name": "stdout",
     "output_type": "stream",
     "text": [
      "Performing Dimensionality Reduction...\n"
     ]
    },
    {
     "name": "stderr",
     "output_type": "stream",
     "text": [
      "D:\\Calvin Lui\\Anaconda3\\lib\\site-packages\\ipykernel\\__main__.py:7: SettingWithCopyWarning: \n",
      "A value is trying to be set on a copy of a slice from a DataFrame.\n",
      "Try using .loc[row_indexer,col_indexer] = value instead\n",
      "\n",
      "See the caveats in the documentation: http://pandas.pydata.org/pandas-docs/stable/indexing.html#indexing-view-versus-copy\n"
     ]
    },
    {
     "name": "stdout",
     "output_type": "stream",
     "text": [
      "Done!\n"
     ]
    }
   ],
   "source": [
    "print(\"Performing Dimensionality Reduction...\")\n",
    "\n",
    "for column in list(X):\n",
    "    values = X[column]\n",
    "    mean = np.mean(values)\n",
    "    std = np.std(values)\n",
    "    X[column] = (X[column] - mean) / std\n",
    "\n",
    "PCAnalysis = PCA(n_components=2)\n",
    "PCAnalysis.fit(X)\n",
    "X = PCAnalysis.transform(X)\n",
    "\n",
    "print(\"Done!\")"
   ]
  },
  {
   "cell_type": "code",
   "execution_count": 199,
   "metadata": {
    "collapsed": false,
    "scrolled": true
   },
   "outputs": [
    {
     "name": "stdout",
     "output_type": "stream",
     "text": [
      "# Data Points: 222661\n"
     ]
    }
   ],
   "source": [
    "x1 = X[:, 0]\n",
    "x2 = X[:, 1]\n",
    "labels = KMS\n",
    "data_points = X.shape[0]\n",
    "\n",
    "print(\"# Data Points:\", data_points)"
   ]
  },
  {
   "cell_type": "code",
   "execution_count": 206,
   "metadata": {
    "collapsed": false
   },
   "outputs": [
    {
     "data": {
      "image/png": "[encoded data removed]",
      "text/plain": [
       "<matplotlib.figure.Figure at 0x220f3c86b70>"
      ]
     },
     "metadata": {},
     "output_type": "display_data"
    }
   ],
   "source": [
    "plt.scatter(x1, x2, c=labels, alpha=0.5, s=75)\n",
    "plt.xlabel('Component 1')\n",
    "plt.ylabel('Component 2')\n",
    "plt.title(\"Principal Component Analysis\")\n",
    "\n",
    "axes = plt.gca()\n",
    "axes.set_xlim([-15, 20])\n",
    "axes.set_ylim([-10,30])\n",
    "\n",
    "plt.savefig(\"PCA_Shot_Decision.png\")\n",
    "plt.show()"
   ]
  },
  {
   "cell_type": "code",
   "execution_count": 213,
   "metadata": {
    "collapsed": false
   },
   "outputs": [
    {
     "data": {
      "text/plain": [
       "array([0])"
      ]
     },
     "execution_count": 213,
     "metadata": {},
     "output_type": "execute_result"
    }
   ],
   "source": [
    "# Features: ['SHOT_DIST', 'TOUCH_TIME', 'CLOSE_DEF_DIST', 'PTS']\n",
    "KMSimulator.predict([[5, 5, 10, 0]])"
   ]
  },
  {
   "cell_type": "code",
   "execution_count": 208,
   "metadata": {
    "collapsed": false
   },
   "outputs": [
    {
     "data": {
      "text/plain": [
       "array([[  5.49071577,   3.15615455,   2.76091909,   1.08008162],\n",
       "       [ 22.43600202,   2.49806173,   5.67599737,   0.97726521]])"
      ]
     },
     "execution_count": 208,
     "metadata": {},
     "output_type": "execute_result"
    }
   ],
   "source": [
    "KMSimulator.cluster_centers_"
   ]
  },
  {
   "cell_type": "code",
   "execution_count": null,
   "metadata": {
    "collapsed": false
   },
   "outputs": [],
   "source": [
    "shot_df['WALL_CLOCK']"
   ]
  },
  {
   "cell_type": "code",
   "execution_count": null,
   "metadata": {
    "collapsed": true
   },
   "outputs": [],
   "source": []
  }
 ],
 "metadata": {
  "anaconda-cloud": {},
  "kernelspec": {
   "display_name": "Python [conda root]",
   "language": "python",
   "name": "conda-root-py"
  },
  "language_info": {
   "codemirror_mode": {
    "name": "ipython",
    "version": 3
   },
   "file_extension": ".py",
   "mimetype": "text/x-python",
   "name": "python",
   "nbconvert_exporter": "python",
   "pygments_lexer": "ipython3",
   "version": "3.5.2"
  }
 },
 "nbformat": 4,
 "nbformat_minor": 2
}
