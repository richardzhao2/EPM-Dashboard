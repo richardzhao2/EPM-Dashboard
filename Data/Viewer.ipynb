{
 "cells": [
  {
   "cell_type": "code",
   "execution_count": 18,
   "metadata": {
    "collapsed": true
   },
   "outputs": [],
   "source": [
    "import pandas as pd\n",
    "import numpy as np\n",
    "import pickle"
   ]
  },
  {
   "cell_type": "code",
   "execution_count": 2,
   "metadata": {
    "collapsed": false
   },
   "outputs": [
    {
     "name": "stdout",
     "output_type": "stream",
     "text": [
      "    Game_id  Season Season_Type  Game_No  Playoff_Rd  Playoff_Rd_Game_No  \\\n",
      "0  20700001    2007     Regular        1           0                   0   \n",
      "1  20700001    2007     Regular        1           0                   0   \n",
      "2  20700001    2007     Regular        1           0                   0   \n",
      "3  20700001    2007     Regular        1           0                   0   \n",
      "4  20700001    2007     Regular        1           0                   0   \n",
      "\n",
      "         Date  Home_Team_id Home_Tm  Visitor_Team_id    ...    Player1  \\\n",
      "0  10/30/2007    1610612759     SAS       1610612757    ...      714.0   \n",
      "1  10/30/2007    1610612759     SAS       1610612757    ...      714.0   \n",
      "2  10/30/2007    1610612759     SAS       1610612757    ...      714.0   \n",
      "3  10/30/2007    1610612759     SAS       1610612757    ...      714.0   \n",
      "4  10/30/2007    1610612759     SAS       1610612757    ...      714.0   \n",
      "\n",
      "   Player2  Player3  Player4  Player5   Player6   Player7   Player8   Player9  \\\n",
      "0   1477.0   1495.0   2038.0   2225.0  101110.0  101127.0  101177.0  200746.0   \n",
      "1   1477.0   1495.0   2038.0   2225.0  101110.0  101127.0  101177.0  200746.0   \n",
      "2   1477.0   1495.0   2038.0   2225.0  101110.0  101127.0  101177.0  200746.0   \n",
      "3   1477.0   1495.0   2038.0   2225.0  101110.0  101127.0  101177.0  200746.0   \n",
      "4   1477.0   1495.0   2038.0   2225.0  101110.0  101127.0  101177.0  200746.0   \n",
      "\n",
      "   Player10  \n",
      "0  200750.0  \n",
      "1  200750.0  \n",
      "2  200750.0  \n",
      "3  200750.0  \n",
      "4  200750.0  \n",
      "\n",
      "[5 rows x 40 columns]\n"
     ]
    }
   ],
   "source": [
    "df = pd.read_csv('Files/Play_by_Play_New.csv')\n",
    "print(df.head())"
   ]
  },
  {
   "cell_type": "code",
   "execution_count": 4,
   "metadata": {
    "collapsed": false
   },
   "outputs": [
    {
     "name": "stdout",
     "output_type": "stream",
     "text": [
      "Index(['Game_id', 'Season', 'Season_Type', 'Game_No', 'Playoff_Rd',\n",
      "       'Playoff_Rd_Game_No', 'Date', 'Home_Team_id', 'Home_Tm',\n",
      "       'Visitor_Team_id', 'Away_Tm', 'Period', 'Event_Num', 'Wall_Clock_Time',\n",
      "       'Play_Clock_Time', 'Team_Committing_Action', 'Person1', 'Person2',\n",
      "       'Person3', 'Home_PTS', 'Visitor_PTS', 'X_Location', 'Y_Location',\n",
      "       'Description', 'Rebound_Designation', 'Shot_Value', 'Shot_Outcome',\n",
      "       'Shot_Side_of_Ct', 'Shot_Distance', 'General_Description', 'Player1',\n",
      "       'Player2', 'Player3', 'Player4', 'Player5', 'Player6', 'Player7',\n",
      "       'Player8', 'Player9', 'Player10'],\n",
      "      dtype='object')\n"
     ]
    }
   ],
   "source": [
    "print(df.columns)"
   ]
  },
  {
   "cell_type": "code",
   "execution_count": 20,
   "metadata": {
    "collapsed": false
   },
   "outputs": [
    {
     "name": "stdout",
     "output_type": "stream",
     "text": [
      "    Shot_Value  Shot_Outcome  X_Location  Y_Location  \\\n",
      "0            0           NaN           0           0   \n",
      "1            0           NaN           0           0   \n",
      "2            2           1.0         -84          13   \n",
      "3            2           1.0         -41          43   \n",
      "4            2           1.0         112         174   \n",
      "5            2           0.0         121         135   \n",
      "6            0           NaN           0           0   \n",
      "7            2           0.0          34         178   \n",
      "8            0           NaN           0           0   \n",
      "9            2           1.0         118         153   \n",
      "10           3           0.0        -228          -3   \n",
      "11           0           NaN           0           0   \n",
      "12           0           NaN           0           0   \n",
      "13           2           0.0         -43          36   \n",
      "14           0           NaN           0           0   \n",
      "15           2           1.0           0           0   \n",
      "16           2           0.0        -113          82   \n",
      "17           0           NaN           0           0   \n",
      "18           2           0.0          20          12   \n",
      "19           0           NaN           0           0   \n",
      "20           0           NaN           0           0   \n",
      "21           1           NaN           0           0   \n",
      "22           1           NaN           0           0   \n",
      "23           0           NaN           0           0   \n",
      "24           2           1.0         -89          20   \n",
      "25           0           NaN           0           0   \n",
      "26           1           NaN           0           0   \n",
      "27           1           NaN           0           0   \n",
      "28           2           0.0          79         181   \n",
      "29           0           NaN           0           0   \n",
      "30           2           0.0          69          18   \n",
      "31           0           NaN           0           0   \n",
      "32           2           1.0         -39          15   \n",
      "33           2           0.0         -38          61   \n",
      "34           0           NaN           0           0   \n",
      "35           2           0.0        -166          12   \n",
      "36           0           NaN           0           0   \n",
      "37           2           0.0         117          35   \n",
      "38           0           NaN           0           0   \n",
      "39           2           1.0        -103          41   \n",
      "40           2           1.0         140         174   \n",
      "41           0           NaN           0           0   \n",
      "42           0           NaN           0           0   \n",
      "43           0           NaN           0           0   \n",
      "44           0           NaN           0           0   \n",
      "45           0           NaN           0           0   \n",
      "46           2           0.0          -6         114   \n",
      "47           0           NaN           0           0   \n",
      "48           0           NaN           0           0   \n",
      "49           2           1.0           0          12   \n",
      "\n",
      "                General_Description  \n",
      "0                         Jump Ball  \n",
      "1              Violation: Jump Ball  \n",
      "2                   Jump Shot: Made  \n",
      "3        Turnaround Bank Shot: Made  \n",
      "4                   Jump Shot: Made  \n",
      "5                 Jump Shot: Missed  \n",
      "6                           Rebound  \n",
      "7                 Jump Shot: Missed  \n",
      "8                           Rebound  \n",
      "9                   Jump Shot: Made  \n",
      "10                Jump Shot: Missed  \n",
      "11                          Rebound  \n",
      "12                 Foul: Loose Ball  \n",
      "13                Jump Shot: Missed  \n",
      "14                          Rebound  \n",
      "15                  Dunk Shot: Made  \n",
      "16                Jump Shot: Missed  \n",
      "17                          Rebound  \n",
      "18               Layup Shot: Missed  \n",
      "19                          Rebound  \n",
      "20                   Foul: Shooting  \n",
      "21                Free Throw 1 of 2  \n",
      "22                Free Throw 2 of 2  \n",
      "23                   Foul: Personal  \n",
      "24         Floating Jump Shot: Made  \n",
      "25                   Foul: Shooting  \n",
      "26                Free Throw 1 of 2  \n",
      "27                Free Throw 2 of 2  \n",
      "28                Jump Shot: Missed  \n",
      "29                          Rebound  \n",
      "30           Jump Bank Hook: Missed  \n",
      "31                          Rebound  \n",
      "32               Running Jump: Made  \n",
      "33                Jump Shot: Missed  \n",
      "34                          Rebound  \n",
      "35                Jump Shot: Missed  \n",
      "36                          Rebound  \n",
      "37                Jump Shot: Missed  \n",
      "38                          Rebound  \n",
      "39       Turnaround Hook Shot: Made  \n",
      "40                  Jump Shot: Made  \n",
      "41  Turnover: Stepped out of Bounds  \n",
      "42                 Timeout: Regular  \n",
      "43                     Substitution  \n",
      "44                     Substitution  \n",
      "45                     Substitution  \n",
      "46                Jump Shot: Missed  \n",
      "47                          Rebound  \n",
      "48               Turnover: Bad Pass  \n",
      "49                 Layup Shot: Made  \n"
     ]
    }
   ],
   "source": [
    "print(df[['Shot_Value', 'Shot_Outcome', 'X_Location', 'Y_Location', 'General_Description']].head(n=50))"
   ]
  },
  {
   "cell_type": "code",
   "execution_count": 30,
   "metadata": {
    "collapsed": false
   },
   "outputs": [
    {
     "name": "stdout",
     "output_type": "stream",
     "text": [
      "{'game-clock': '720.00', 'time': '1477449088333', 'game-event-id': '', 'shot-clock': '24.00', 'locations': '-1,-1,49.22237,28.43259,6.90133;9,214168,45.01293,27.59495,0;9,329525,47.94213,29.45593,0;9,338365,25.28042,24.00548,0;9,457611,44.15785,15.38368,0;9,468895,36.74109,24.85659,0;24,3494,48.59617,23.4417,0;24,3508,68.45682,23.64163,0;24,266554,69.83699,24.59199,0;24,512591,45.01293,27.59495,0;24,697720,49.09623,14.94346,0'}\n",
      "{'game-clock': '720.00', 'time': '1477449088372', 'game-event-id': '', 'shot-clock': '24.00', 'locations': '-1,-1,49.28863,28.38515,6.87249;9,214168,45.05801,27.60062,0;9,329525,47.96406,29.45769,0;9,338365,25.28433,24.00349,0;9,457611,44.16071,15.3753,0;9,468895,36.73495,24.84038,0;24,3494,48.61476,23.45661,0;24,3508,68.4531,23.64026,0;24,266554,69.82975,24.58496,0;24,512591,45.05801,27.60062,0;24,697720,49.22436,14.94833,0'}\n",
      "{'game-clock': '720.00', 'time': '1477449088413', 'game-event-id': '', 'shot-clock': '24.00', 'locations': '-1,-1,49.28515,28.17953,6.73806;9,214168,45.07892,27.64475,0;9,329525,47.99448,29.4567,0;9,338365,25.29,24.00267,0;9,457611,44.14729,15.38424,0;9,468895,36.72542,24.81608,0;24,3494,48.63128,23.47063,0;24,3508,68.46329,23.65285,0;24,266554,69.83769,24.58949,0;24,512591,45.07892,27.64475,0;24,697720,49.32354,14.89154,0'}\n",
      "{'game-clock': '720.00', 'time': '1477449088453', 'game-event-id': '', 'shot-clock': '24.00', 'locations': '-1,-1,49.32108,28.33474,6.77315;9,214168,45.09464,27.72159,0;9,329525,48.02597,29.45019,0;9,338365,25.29845,24.00378,0;9,457611,44.11711,15.39956,0;9,468895,36.7203,24.85277,0;24,3494,48.65966,23.49154,0;24,3508,68.47755,23.65362,0;24,266554,69.83752,24.58831,0;24,512591,45.09464,27.72159,0;24,697720,49.43734,14.85423,0'}\n",
      "{'game-clock': '720.00', 'time': '1477449088493', 'game-event-id': '', 'shot-clock': '24.00', 'locations': '-1,-1,49.35598,28.2469,6.84385;9,214168,45.0979,27.78177,0;9,329525,48.05699,29.44186,0;9,338365,25.3066,24.00469,0;9,457611,44.13765,15.46038,0;9,468895,36.71408,24.88435,0;24,3494,48.66053,23.49181,0;24,3508,68.45482,23.64357,0;24,266554,69.82643,24.57891,0;24,512591,45.0979,27.78177,0;24,697720,49.56255,14.8421,0'}\n"
     ]
    }
   ],
   "source": [
    "sportvu = pickle.load( open( \"SPORTVU PY/NBA_LG_FINAL_SEQUENCE_OPTICAL$2016102509_Q1.p\", \"rb\" ) )\n",
    "for x in range(5):\n",
    "    print(sportvu[x])"
   ]
  },
  {
   "cell_type": "code",
   "execution_count": 31,
   "metadata": {
    "collapsed": false
   },
   "outputs": [
    {
     "name": "stdout",
     "output_type": "stream",
     "text": [
      "'locations': '-1,-1,49.35598,28.2469,6.84385\n",
      "9,214168,45.0979,27.78177,0\n",
      "9,329525,48.05699,29.44186,0\n",
      "9,338365,25.3066,24.00469,0\n",
      "9,457611,44.13765,15.46038,0\n",
      "9,468895,36.71408,24.88435,0\n",
      "24,3494,48.66053,23.49181,0\n",
      "24,3508,68.45482,23.64357,0\n",
      "24,266554,69.82643,24.57891,0\n",
      "24,512591,45.0979,27.78177,0\n",
      "24,697720,49.56255,14.8421,0'\n",
      "11\n"
     ]
    }
   ],
   "source": [
    "locations = \"'locations': '-1,-1,49.35598,28.2469,6.84385;9,214168,45.0979,27.78177,0;9,329525,48.05699,29.44186,0;9,338365,25.3066,24.00469,0;9,457611,44.13765,15.46038,0;9,468895,36.71408,24.88435,0;24,3494,48.66053,23.49181,0;24,3508,68.45482,23.64357,0;24,266554,69.82643,24.57891,0;24,512591,45.0979,27.78177,0;24,697720,49.56255,14.8421,0'\"\n",
    "arr = locations.split(';')\n",
    "for x in arr:\n",
    "    print(x)\n",
    "print(len(arr))\n"
   ]
  },
  {
   "cell_type": "raw",
   "metadata": {},
   "source": []
  }
 ],
 "metadata": {
  "kernelspec": {
   "display_name": "Python 3",
   "language": "python",
   "name": "python3"
  },
  "language_info": {
   "codemirror_mode": {
    "name": "ipython",
    "version": 3
   },
   "file_extension": ".py",
   "mimetype": "text/x-python",
   "name": "python",
   "nbconvert_exporter": "python",
   "pygments_lexer": "ipython3",
   "version": "3.6.0"
  }
 },
 "nbformat": 4,
 "nbformat_minor": 2
}
