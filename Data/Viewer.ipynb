{
 "cells": [
  {
   "cell_type": "code",
   "execution_count": 18,
   "metadata": {
    "collapsed": true
   },
   "outputs": [],
   "source": [
    "import pandas as pd\n",
    "import numpy as np\n",
    "import pickle"
   ]
  },
  {
   "cell_type": "code",
   "execution_count": 2,
   "metadata": {
    "collapsed": false
   },
   "outputs": [
    {
     "name": "stdout",
     "output_type": "stream",
     "text": [
      "    Game_id  Season Season_Type  Game_No  Playoff_Rd  Playoff_Rd_Game_No  \\\n",
      "0  20700001    2007     Regular        1           0                   0   \n",
      "1  20700001    2007     Regular        1           0                   0   \n",
      "2  20700001    2007     Regular        1           0                   0   \n",
      "3  20700001    2007     Regular        1           0                   0   \n",
      "4  20700001    2007     Regular        1           0                   0   \n",
      "\n",
      "         Date  Home_Team_id Home_Tm  Visitor_Team_id    ...    Player1  \\\n",
      "0  10/30/2007    1610612759     SAS       1610612757    ...      714.0   \n",
      "1  10/30/2007    1610612759     SAS       1610612757    ...      714.0   \n",
      "2  10/30/2007    1610612759     SAS       1610612757    ...      714.0   \n",
      "3  10/30/2007    1610612759     SAS       1610612757    ...      714.0   \n",
      "4  10/30/2007    1610612759     SAS       1610612757    ...      714.0   \n",
      "\n",
      "   Player2  Player3  Player4  Player5   Player6   Player7   Player8   Player9  \\\n",
      "0   1477.0   1495.0   2038.0   2225.0  101110.0  101127.0  101177.0  200746.0   \n",
      "1   1477.0   1495.0   2038.0   2225.0  101110.0  101127.0  101177.0  200746.0   \n",
      "2   1477.0   1495.0   2038.0   2225.0  101110.0  101127.0  101177.0  200746.0   \n",
      "3   1477.0   1495.0   2038.0   2225.0  101110.0  101127.0  101177.0  200746.0   \n",
      "4   1477.0   1495.0   2038.0   2225.0  101110.0  101127.0  101177.0  200746.0   \n",
      "\n",
      "   Player10  \n",
      "0  200750.0  \n",
      "1  200750.0  \n",
      "2  200750.0  \n",
      "3  200750.0  \n",
      "4  200750.0  \n",
      "\n",
      "[5 rows x 40 columns]\n"
     ]
    }
   ],
   "source": [
    "df = pd.read_csv('Files/Play_by_Play_New.csv')\n",
    "print(df.head())"
   ]
  },
  {
   "cell_type": "code",
   "execution_count": 4,
   "metadata": {
    "collapsed": false
   },
   "outputs": [
    {
     "name": "stdout",
     "output_type": "stream",
     "text": [
      "Index(['Game_id', 'Season', 'Season_Type', 'Game_No', 'Playoff_Rd',\n",
      "       'Playoff_Rd_Game_No', 'Date', 'Home_Team_id', 'Home_Tm',\n",
      "       'Visitor_Team_id', 'Away_Tm', 'Period', 'Event_Num', 'Wall_Clock_Time',\n",
      "       'Play_Clock_Time', 'Team_Committing_Action', 'Person1', 'Person2',\n",
      "       'Person3', 'Home_PTS', 'Visitor_PTS', 'X_Location', 'Y_Location',\n",
      "       'Description', 'Rebound_Designation', 'Shot_Value', 'Shot_Outcome',\n",
      "       'Shot_Side_of_Ct', 'Shot_Distance', 'General_Description', 'Player1',\n",
      "       'Player2', 'Player3', 'Player4', 'Player5', 'Player6', 'Player7',\n",
      "       'Player8', 'Player9', 'Player10'],\n",
      "      dtype='object')\n"
     ]
    }
   ],
   "source": [
    "print(df.columns)"
   ]
  },
  {
   "cell_type": "code",
   "execution_count": 17,
   "metadata": {
    "collapsed": false
   },
   "outputs": [
    {
     "name": "stdout",
     "output_type": "stream",
     "text": [
      "   Shot_Value  Shot_Outcome  X_Location  Y_Location  \\\n",
      "0           0           NaN           0           0   \n",
      "1           0           NaN           0           0   \n",
      "2           2           1.0         -84          13   \n",
      "3           2           1.0         -41          43   \n",
      "4           2           1.0         112         174   \n",
      "5           2           0.0         121         135   \n",
      "6           0           NaN           0           0   \n",
      "7           2           0.0          34         178   \n",
      "8           0           NaN           0           0   \n",
      "9           2           1.0         118         153   \n",
      "\n",
      "          General_Description  \n",
      "0                   Jump Ball  \n",
      "1        Violation: Jump Ball  \n",
      "2             Jump Shot: Made  \n",
      "3  Turnaround Bank Shot: Made  \n",
      "4             Jump Shot: Made  \n",
      "5           Jump Shot: Missed  \n",
      "6                     Rebound  \n",
      "7           Jump Shot: Missed  \n",
      "8                     Rebound  \n",
      "9             Jump Shot: Made  \n"
     ]
    }
   ],
   "source": [
    "print(df[['Shot_Value', 'Shot_Outcome', 'X_Location', 'Y_Location', 'General_Description']].head(n=10))"
   ]
  },
  {
   "cell_type": "code",
   "execution_count": 19,
   "metadata": {
    "collapsed": false
   },
   "outputs": [
    {
     "name": "stdout",
     "output_type": "stream",
     "text": [
      "{'game-clock': '720.00', 'time': '1477438579336', 'game-event-id': '', 'shot-clock': '24.00', 'locations': '-1,-1,47.13248,28.14078,4.80829;5,214152,52.06204,36.55583,0;5,253997,48.19851,14.86676,0;5,395374,59.89999,30.06305,0;5,551768,59.73518,30.4817,0;5,552806,48.85235,24.29689,0;18,172890,47.43618,36.39903,0;18,263220,45.68554,26.50675,0;18,276755,46.63328,14.68745,0;18,399612,11.54205,26.79228,0;18,877869,37.57692,24.91517,0'}\n",
      "{'game-clock': '720.00', 'time': '1477438579376', 'game-event-id': '', 'shot-clock': '24.00', 'locations': '-1,-1,47.02735,28.1051,4.77021;5,214152,51.98853,36.51799,0;5,253997,48.21179,14.90437,0;5,395374,59.87765,30.07992,0;5,551768,59.76784,30.39574,0;5,552806,48.82836,24.24862,0;18,172890,47.43423,36.38794,0;18,263220,45.694,26.51621,0;18,276755,46.66147,14.67148,0;18,399612,11.49175,26.84274,0;18,877869,37.59448,24.916,0'}\n",
      "{'game-clock': '720.00', 'time': '1477438579416', 'game-event-id': '', 'shot-clock': '24.00', 'locations': '-1,-1,47.037,28.15165,4.81177;5,214152,51.91445,36.48042,0;5,253997,48.22716,14.93942,0;5,395374,59.8548,30.09741,0;5,551768,59.79861,30.29613,0;5,552806,48.80721,24.21254,0;18,172890,47.42726,36.3817,0;18,263220,45.70306,26.52511,0;18,276755,46.6878,14.68096,0;18,399612,11.44316,26.89027,0;18,877869,37.60582,24.91469,0'}\n",
      "{'game-clock': '720.00', 'time': '1477438579456', 'game-event-id': '', 'shot-clock': '24.00', 'locations': '-1,-1,47.00464,28.11229,4.86896;5,214152,51.84018,36.44796,0;5,253997,48.268,14.96555,0;5,395374,59.8716,30.06265,0;5,551768,59.775,30.22263,0;5,552806,48.78863,24.18705,0;18,172890,47.41658,36.37766,0;18,263220,45.70741,26.5293,0;18,276755,46.71775,14.68142,0;18,399612,11.40131,26.9369,0;18,877869,37.62093,24.91348,0'}\n",
      "{'game-clock': '720.00', 'time': '1477438579497', 'game-event-id': '', 'shot-clock': '24.00', 'locations': '-1,-1,46.9132,28.14059,4.76157;5,214152,51.7677,36.41709,0;5,253997,48.30185,14.97203,0;5,395374,59.88597,29.95172,0;5,551768,59.75187,30.21147,0;5,552806,48.76948,24.16984,0;18,172890,47.4039,36.37484,0;18,263220,45.70938,26.52806,0;18,276755,46.73903,14.70541,0;18,399612,11.362,26.9768,0;18,877869,37.6287,24.91039,0'}\n"
     ]
    }
   ],
   "source": [
    "sportvu = pickle.load( open( \"SPORTVU/NBA_LG_FINAL_SEQUENCE_OPTICAL$2016102505_Q1.p\", \"rb\" ) )\n",
    "for x in range(5):\n",
    "    print(sportvu[x])"
   ]
  }
 ],
 "metadata": {
  "kernelspec": {
   "display_name": "Python 3",
   "language": "python",
   "name": "python3"
  },
  "language_info": {
   "codemirror_mode": {
    "name": "ipython",
    "version": 3
   },
   "file_extension": ".py",
   "mimetype": "text/x-python",
   "name": "python",
   "nbconvert_exporter": "python",
   "pygments_lexer": "ipython3",
   "version": "3.6.0"
  }
 },
 "nbformat": 4,
 "nbformat_minor": 2
}
