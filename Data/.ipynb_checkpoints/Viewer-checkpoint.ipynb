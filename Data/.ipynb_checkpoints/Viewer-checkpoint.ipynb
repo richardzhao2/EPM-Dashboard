{
 "cells": [
  {
   "cell_type": "code",
   "execution_count": 18,
   "metadata": {
    "collapsed": true
   },
   "outputs": [],
   "source": [
    "import pandas as pd\n",
    "import numpy as np\n",
    "import pickle"
   ]
  },
  {
   "cell_type": "code",
   "execution_count": 2,
   "metadata": {
    "collapsed": false
   },
   "outputs": [
    {
     "name": "stdout",
     "output_type": "stream",
     "text": [
      "    Game_id  Season Season_Type  Game_No  Playoff_Rd  Playoff_Rd_Game_No  \\\n",
      "0  20700001    2007     Regular        1           0                   0   \n",
      "1  20700001    2007     Regular        1           0                   0   \n",
      "2  20700001    2007     Regular        1           0                   0   \n",
      "3  20700001    2007     Regular        1           0                   0   \n",
      "4  20700001    2007     Regular        1           0                   0   \n",
      "\n",
      "         Date  Home_Team_id Home_Tm  Visitor_Team_id    ...    Player1  \\\n",
      "0  10/30/2007    1610612759     SAS       1610612757    ...      714.0   \n",
      "1  10/30/2007    1610612759     SAS       1610612757    ...      714.0   \n",
      "2  10/30/2007    1610612759     SAS       1610612757    ...      714.0   \n",
      "3  10/30/2007    1610612759     SAS       1610612757    ...      714.0   \n",
      "4  10/30/2007    1610612759     SAS       1610612757    ...      714.0   \n",
      "\n",
      "   Player2  Player3  Player4  Player5   Player6   Player7   Player8   Player9  \\\n",
      "0   1477.0   1495.0   2038.0   2225.0  101110.0  101127.0  101177.0  200746.0   \n",
      "1   1477.0   1495.0   2038.0   2225.0  101110.0  101127.0  101177.0  200746.0   \n",
      "2   1477.0   1495.0   2038.0   2225.0  101110.0  101127.0  101177.0  200746.0   \n",
      "3   1477.0   1495.0   2038.0   2225.0  101110.0  101127.0  101177.0  200746.0   \n",
      "4   1477.0   1495.0   2038.0   2225.0  101110.0  101127.0  101177.0  200746.0   \n",
      "\n",
      "   Player10  \n",
      "0  200750.0  \n",
      "1  200750.0  \n",
      "2  200750.0  \n",
      "3  200750.0  \n",
      "4  200750.0  \n",
      "\n",
      "[5 rows x 40 columns]\n"
     ]
    }
   ],
   "source": [
    "df = pd.read_csv('Files/Play_by_Play_New.csv')\n",
    "print(df.head())"
   ]
  },
  {
   "cell_type": "code",
   "execution_count": 4,
   "metadata": {
    "collapsed": false
   },
   "outputs": [
    {
     "name": "stdout",
     "output_type": "stream",
     "text": [
      "Index(['Game_id', 'Season', 'Season_Type', 'Game_No', 'Playoff_Rd',\n",
      "       'Playoff_Rd_Game_No', 'Date', 'Home_Team_id', 'Home_Tm',\n",
      "       'Visitor_Team_id', 'Away_Tm', 'Period', 'Event_Num', 'Wall_Clock_Time',\n",
      "       'Play_Clock_Time', 'Team_Committing_Action', 'Person1', 'Person2',\n",
      "       'Person3', 'Home_PTS', 'Visitor_PTS', 'X_Location', 'Y_Location',\n",
      "       'Description', 'Rebound_Designation', 'Shot_Value', 'Shot_Outcome',\n",
      "       'Shot_Side_of_Ct', 'Shot_Distance', 'General_Description', 'Player1',\n",
      "       'Player2', 'Player3', 'Player4', 'Player5', 'Player6', 'Player7',\n",
      "       'Player8', 'Player9', 'Player10'],\n",
      "      dtype='object')\n"
     ]
    }
   ],
   "source": [
    "print(df.columns)"
   ]
  },
  {
   "cell_type": "code",
   "execution_count": 17,
   "metadata": {
    "collapsed": false
   },
   "outputs": [
    {
     "name": "stdout",
     "output_type": "stream",
     "text": [
      "   Shot_Value  Shot_Outcome  X_Location  Y_Location  \\\n",
      "0           0           NaN           0           0   \n",
      "1           0           NaN           0           0   \n",
      "2           2           1.0         -84          13   \n",
      "3           2           1.0         -41          43   \n",
      "4           2           1.0         112         174   \n",
      "5           2           0.0         121         135   \n",
      "6           0           NaN           0           0   \n",
      "7           2           0.0          34         178   \n",
      "8           0           NaN           0           0   \n",
      "9           2           1.0         118         153   \n",
      "\n",
      "          General_Description  \n",
      "0                   Jump Ball  \n",
      "1        Violation: Jump Ball  \n",
      "2             Jump Shot: Made  \n",
      "3  Turnaround Bank Shot: Made  \n",
      "4             Jump Shot: Made  \n",
      "5           Jump Shot: Missed  \n",
      "6                     Rebound  \n",
      "7           Jump Shot: Missed  \n",
      "8                     Rebound  \n",
      "9             Jump Shot: Made  \n"
     ]
    }
   ],
   "source": [
    "print(df[['Shot_Value', 'Shot_Outcome', 'X_Location', 'Y_Location', 'General_Description']].head(n=10))"
   ]
  },
  {
   "cell_type": "code",
   "execution_count": null,
   "metadata": {
    "collapsed": true
   },
   "outputs": [],
   "source": [
    "sportvu = pickle.load( open( \"SPORTVU/NBA_LG_FINAL_SEQUENCE_OPTICAL$2016102505_Q1.p\", \"rb\" ) )\n",
    "for x in range(5):\n",
    "    print(sportvu[x])"
   ]
  }
 ],
 "metadata": {
  "kernelspec": {
   "display_name": "Python 3",
   "language": "python",
   "name": "python3"
  },
  "language_info": {
   "codemirror_mode": {
    "name": "ipython",
    "version": 3
   },
   "file_extension": ".py",
   "mimetype": "text/x-python",
   "name": "python",
   "nbconvert_exporter": "python",
   "pygments_lexer": "ipython3",
   "version": "3.6.0"
  }
 },
 "nbformat": 4,
 "nbformat_minor": 2
}
