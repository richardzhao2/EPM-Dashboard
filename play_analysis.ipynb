{
 "cells": [
  {
   "cell_type": "code",
   "execution_count": 5,
   "metadata": {
    "collapsed": false
   },
   "outputs": [
    {
     "name": "stdout",
     "output_type": "stream",
     "text": [
      "Time Elapsed: 40.509000062942505 sec\n"
     ]
    }
   ],
   "source": [
    "import numpy as np\n",
    "import pandas as pd\n",
    "import matplotlib.pyplot as plt\n",
    "import time\n",
    "\n",
    "startTime = time.time()\n",
    "\n",
    "fileName = \"Basketball Data/Play_by_Play_New.csv\"\n",
    "df = pd.read_csv(fileName)\n",
    "\n",
    "playerMatch = \"Basketball Data/Player_Map.csv\"\n",
    "player_df = pd.read_csv(playerMatch)\n",
    "\n",
    "teamMatch = \"Basketball Data/Team_Map.csv\"\n",
    "player_df = pd.read_csv(teamMatch)\n",
    "\n",
    "endTime = time.time()\n",
    "print(\"Time Elapsed:\", endTime - startTime, \"sec\")"
   ]
  },
  {
   "cell_type": "code",
   "execution_count": 6,
   "metadata": {
    "collapsed": false
   },
   "outputs": [
    {
     "name": "stdout",
     "output_type": "stream",
     "text": [
      "Headers:\n",
      "Game_id\n",
      "Season\n",
      "Season_Type\n",
      "Game_No\n",
      "Playoff_Rd\n",
      "Playoff_Rd_Game_No\n",
      "Date\n",
      "Home_Team_id\n",
      "Home_Tm\n",
      "Visitor_Team_id\n",
      "Away_Tm\n",
      "Period\n",
      "Event_Num\n",
      "Wall_Clock_Time\n",
      "Play_Clock_Time\n",
      "Team_Committing_Action\n",
      "Person1\n",
      "Person2\n",
      "Person3\n",
      "Home_PTS\n",
      "Visitor_PTS\n",
      "X_Location\n",
      "Y_Location\n",
      "Description\n",
      "Rebound_Designation\n",
      "Shot_Value\n",
      "Shot_Outcome\n",
      "Shot_Side_of_Ct\n",
      "Shot_Distance\n",
      "General_Description\n",
      "Player1\n",
      "Player2\n",
      "Player3\n",
      "Player4\n",
      "Player5\n",
      "Player6\n",
      "Player7\n",
      "Player8\n",
      "Player9\n",
      "Player10\n",
      "\n"
     ]
    }
   ],
   "source": [
    "startIndex = np.where(df[\"Season\"] == 2016)[0][0]\n",
    "\n",
    "print(\"Headers:\")\n",
    "for header in df:\n",
    "    print(header)\n",
    "    df[header] = df[header][startIndex:]\n",
    "print()"
   ]
  }
 ],
 "metadata": {
  "anaconda-cloud": {},
  "kernelspec": {
   "display_name": "Python [conda env:py34]",
   "language": "python",
   "name": "conda-env-py34-py"
  },
  "language_info": {
   "codemirror_mode": {
    "name": "ipython",
    "version": 3
   },
   "file_extension": ".py",
   "mimetype": "text/x-python",
   "name": "python",
   "nbconvert_exporter": "python",
   "pygments_lexer": "ipython3",
   "version": "3.4.5"
  }
 },
 "nbformat": 4,
 "nbformat_minor": 2
}
